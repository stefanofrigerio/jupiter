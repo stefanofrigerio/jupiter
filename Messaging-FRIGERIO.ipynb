{
 "cells": [
  {
   "cell_type": "code",
   "execution_count": null,
   "metadata": {
    "collapsed": false,
    "scrolled": true
   },
   "outputs": [],
   "source": [
    "import org.apache.spark.sql.types.{StringType, StructType, BooleanType}\n",
    "\n",
    "private val SCHEMA = (new StructType)\n",
    "    .add(\"@type\", StringType)\n",
    "    .add(\"device\", (new StructType)\n",
    "      .add(\"deviceType\", StringType)\n",
    "    )\n",
    "    .add(\"object\", (new StructType) \n",
    "      .add(\"@id\", StringType) \n",
    "      .add(\"@type\", StringType) \n",
    "      .add(\"attachments\", StringType)\n",
    "      .add(\"body\", StringType)\n",
    "      .add(\"inReplyTo\", StringType)\n",
    "      .add(\"isFirstMessage\", BooleanType)\n",
    "      .add(\"origin\", StringType)\n",
    "      .add(\"receiverConversationId\", StringType)\n",
    "      .add(\"senderConversationId\", StringType)\n",
    "      .add(\"subject\", StringType)\n",
    "      .add(\"messageType\", StringType)\n",
    "      .add(\"publisher\", (new StructType)\n",
    "          .add(\"@id\", StringType)\n",
    "      )\n",
    "    )\n",
    "    .add(\"provider\", (new StructType)\n",
    "      .add(\"@type\", StringType)\n",
    "      .add(\"component\", StringType)\n",
    "      .add(\"productType\", StringType)\n",
    "    )\n",
    "    .add(\"tracker\", (new StructType)\n",
    "      .add(\"type\", StringType)\n",
    "      .add(\"version\", StringType)\n",
    "    )\n",
    "    .add(\"account\", (new StructType)\n",
    "      .add(\"accountId\", StringType)\n",
    "    )\n",
    "    .add(\"target\", (new StructType)\n",
    "      .add(\"accountId\", StringType)\n",
    "    )\n",
    "    .add(\"schema\", StringType)\n",
    "    .add(\"@id\", StringType)\n",
    "    .add(\"published\",StringType)\n",
    "\n",
    "val events2 = spark.read.json(\"s3://schibsted-spt-common-prod/purple/messaging/client=subito/version=1/year=2017/month=10/day=24/hour=10\")\n",
    "val events = spark.read.schema(SCHEMA).json(\"s3://schibsted-spt-common-prod/purple/messaging/client=subito/version=1/year=2017/month=10/day=24/hour=10\")\n",
    "\n",
    "\n",
    "events.cache\n",
    "\n",
    "events2.printSchema"
   ]
  },
  {
   "cell_type": "code",
   "execution_count": null,
   "metadata": {
    "collapsed": false
   },
   "outputs": [],
   "source": [
    "events.printSchema()\n",
    "events.show(10,false)\n"
   ]
  },
  {
   "cell_type": "code",
   "execution_count": null,
   "metadata": {
    "collapsed": false
   },
   "outputs": [],
   "source": [
    "import org.apache.spark.sql.functions._\n",
    "\n",
    "val normalizeCategory = (category: String) => {\n",
    "    category.split(\">\").last.toLowerCase.trim\n",
    "      .replaceAll(\" \", \"-\")\n",
    "      .replaceAll(\",-\", \"-\")\n",
    "      .replaceAll(\",\", \"-\")\n",
    "      .replaceAll(\"/\", \"-\")\n",
    "}\n",
    "\n",
    "val normalizeMacroCategory = (category: String) => {\n",
    "    category.split(\">\")(0).toLowerCase.trim\n",
    "      .replaceAll(\" \", \"-\")\n",
    "      .replaceAll(\",-\", \"-\")\n",
    "      .replaceAll(\",\", \"-\")\n",
    "      .replaceAll(\"/\", \"-\")\n",
    "}\n",
    "\n",
    "val normalizeRegion = (locality: String) => {\n",
    "    locality.split(\">\")(0).trim\n",
    "}\n",
    "\n",
    "val provinceAndCity = (region: String, locality: String) => {\n",
    "    locality.split(\">\")(0).trim\n",
    "}\n",
    "\n",
    "private val selectAdID = (value: String) => {\n",
    "    \":ad(.*)list\".r.findFirstIn(value.toLowerCase()).get.replace(\":ad\",\"\").replace(\"list\",\"\")\n",
    "}\n",
    "\n",
    "private val selectListID = (value: String) => {\n",
    "    value.toLowerCase()\n",
    "      .replace(\"sdrn:schibsted:classified:\", \"\").replace(\"sdrn:regresssubito:classified:\", \"\")\n",
    "      .replace(\"sdrn:subito:classified:\",\"\").replace(\"sdrn:com.subito.subito:classified:\", \"\")\n",
    "      .replace(\"sdrn:subito:phonecontact:\",\"\")\n",
    "      .replace(\"id%3aad%3a\", \"\").replace(\"id:ad:\",\"\")\n",
    "      .replace(\"%3alist%3a\",\"-\").replace(\":list:\", \"-\")\n",
    "      .split(\"-\")(1).trim\n",
    "}\n",
    "\n",
    "spark.udf.register(\"normalize_category\", normalizeCategory)\n",
    "spark.udf.register(\"normalize_macro_category\", normalizeMacroCategory)\n",
    "spark.udf.register(\"normalize_region\", normalizeRegion)\n",
    "spark.udf.register(\"select_ad_id\", selectAdID)\n",
    "spark.udf.register(\"select_list_id\", selectListID)\n",
    "\n",
    "val messages = events.\n",
    "    //filter(($\"@type\" === \"Launch\")).\n",
    "    select(col(\"@type\").alias(\"status\"),\n",
    "           col(\"device.devicetype\").alias(\"device\"),\n",
    "           col(\"object.@type\").alias(\"type\"),\n",
    "           col(\"object.attachments\").alias(\"attachments\"),\n",
    "           col(\"object.body\").alias(\"body\"),\n",
    "           col(\"object.inReplyTo\").alias(\"adId\"),\n",
    "           col(\"object.isFirstMessage\").alias(\"isFirstMessage\"),\n",
    "           col(\"object.origin\").alias(\"origin\"),\n",
    "           col(\"object.receiverConversationId\").alias(\"receiverConversationId\"),\n",
    "           col(\"object.senderConversationId\").alias(\"senderConversationId\"),\n",
    "           col(\"object.subject\").alias(\"subject\"),\n",
    "           col(\"account.accountId\").alias(\"sender_userId\"),\n",
    "           col(\"target.accountId\").alias(\"recipient_userId\"),\n",
    "           col(\"published\")).\n",
    "    cache\n",
    "\n",
    "messages.createOrReplaceTempView(\"messages\")"
   ]
  },
  {
   "cell_type": "code",
   "execution_count": null,
   "metadata": {
    "collapsed": false
   },
   "outputs": [],
   "source": [
    "val data = messages.\n",
    "    sqlContext.sql(\"SELECT messagetype, senderConversationId from messages \").\n",
    "    cache.show(1000,false)"
   ]
  },
  {
   "cell_type": "code",
   "execution_count": null,
   "metadata": {
    "collapsed": true
   },
   "outputs": [],
   "source": []
  },
  {
   "cell_type": "code",
   "execution_count": null,
   "metadata": {
    "collapsed": false
   },
   "outputs": [],
   "source": [
    "val data = messages.\n",
    "    sqlContext.sql(\"SELECT status, device, type, isFirstMessage, origin, category, count(*) from messages group by status, device, type, isFirstMessage, origin, category order by device, origin\").\n",
    "    cache\n",
    "\n",
    "\n",
    "data.show(100, false)"
   ]
  },
  {
   "cell_type": "code",
   "execution_count": null,
   "metadata": {
    "collapsed": false
   },
   "outputs": [],
   "source": [
    "val data = messages.\n",
    "    sqlContext.sql(\"SELECT select_ad_id(adId) , count(*) from messages group by adId order by count(*) desc\").\n",
    "    cache\n",
    "\n",
    "\n",
    "data.show(1000, false)"
   ]
  },
  {
   "cell_type": "code",
   "execution_count": null,
   "metadata": {
    "collapsed": false
   },
   "outputs": [],
   "source": [
    "val data = messages.\n",
    "    sqlContext.sql(\"SELECT * from  messages limit 1 \").\n",
    "    cache\n",
    "\n",
    "\n",
    "data.show(1000, false)"
   ]
  },
  {
   "cell_type": "code",
   "execution_count": null,
   "metadata": {
    "collapsed": true
   },
   "outputs": [],
   "source": []
  }
 ],
 "metadata": {
  "kernelspec": {
   "display_name": "Apache Toree - Scala",
   "language": "scala",
   "name": "apache_toree_scala"
  },
  "language_info": {
   "codemirror_mode": "text/x-scala",
   "file_extension": ".scala",
   "mimetype": "text/x-scala",
   "name": "scala",
   "pygments_lexer": "scala",
   "version": "2.11.8"
  }
 },
 "nbformat": 4,
 "nbformat_minor": 2
}
