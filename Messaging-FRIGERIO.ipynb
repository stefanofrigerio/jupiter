{
 "cells": [
  {
   "cell_type": "code",
   "execution_count": null,
   "metadata": {
    "collapsed": false,
    "scrolled": true
   },
   "outputs": [],
   "source": [
    "import org.apache.spark.sql.types.{StringType, StructType, BooleanType}\n",
    "\n",
    "private val SCHEMA = (new StructType)\n",
    "    .add(\"@type\", StringType)\n",
    "    .add(\"device\", (new StructType)\n",
    "      .add(\"deviceType\", StringType)\n",
    "    )\n",
    "    .add(\"object\", (new StructType) \n",
    "      .add(\"@id\", StringType) \n",
    "      .add(\"@type\", StringType) \n",
    "      .add(\"attachments\", StringType)\n",
    "      .add(\"body\", StringType)\n",
    "      .add(\"inReplyTo\", StringType)\n",
    "      .add(\"isFirstMessage\", BooleanType)\n",
    "      .add(\"origin\", StringType)\n",
    "      .add(\"receiverConversationId\", StringType)\n",
    "      .add(\"senderConversationId\", StringType)\n",
    "      .add(\"subject\", StringType)\n",
    "      .add(\"messageType\", StringType)\n",
    "      .add(\"category\", StringType)\n",
    "      .add(\"publisher\", (new StructType)\n",
    "          .add(\"@id\", StringType)\n",
    "      )\n",
    "    )\n",
    "    .add(\"provider\", (new StructType)\n",
    "      .add(\"@type\", StringType)\n",
    "      .add(\"component\", StringType)\n",
    "      .add(\"productType\", StringType)\n",
    "    )\n",
    "    .add(\"tracker\", (new StructType)\n",
    "      .add(\"type\", StringType)\n",
    "      .add(\"version\", StringType)\n",
    "    )\n",
    "    .add(\"account\", (new StructType)\n",
    "      .add(\"accountId\", StringType)\n",
    "    )\n",
    "    .add(\"target\", (new StructType)\n",
    "      .add(\"accountId\", StringType)\n",
    "    )\n",
    "    .add(\"schema\", StringType)\n",
    "    .add(\"@id\", StringType)\n",
    "    .add(\"day\", StringType)\n",
    "    .add(\"hour\", StringType)\n",
    "\n",
    "//val events = spark.read.json(\"s3://schibsted-spt-common-prod/purple/messaging/client=subito/version=1/year=2017/month=10/day=6/hour=10\")\n",
    "val events = spark.read.schema(SCHEMA).json(\"s3://schibsted-spt-common-prod/purple/messaging/client=subito/version=1/year=2017/month=10/day=6/hour=10\")\n",
    "\n",
    "\n",
    "events.cache\n",
    "\n",
    "events.printSchema"
   ]
  },
  {
   "cell_type": "code",
   "execution_count": null,
   "metadata": {
    "collapsed": false
   },
   "outputs": [],
   "source": [
    "import org.apache.spark.sql.functions._\n",
    "\n",
    "val normalizeCategory = (category: String) => {\n",
    "    category.split(\">\").last.toLowerCase.trim\n",
    "      .replaceAll(\" \", \"-\")\n",
    "      .replaceAll(\",-\", \"-\")\n",
    "      .replaceAll(\",\", \"-\")\n",
    "      .replaceAll(\"/\", \"-\")\n",
    "}\n",
    "\n",
    "val normalizeMacroCategory = (category: String) => {\n",
    "    category.split(\">\")(0).toLowerCase.trim\n",
    "      .replaceAll(\" \", \"-\")\n",
    "      .replaceAll(\",-\", \"-\")\n",
    "      .replaceAll(\",\", \"-\")\n",
    "      .replaceAll(\"/\", \"-\")\n",
    "}\n",
    "\n",
    "val normalizeRegion = (locality: String) => {\n",
    "    locality.split(\">\")(0).trim\n",
    "}\n",
    "\n",
    "val provinceAndCity = (region: String, locality: String) => {\n",
    "    locality.split(\">\")(0).trim\n",
    "}\n",
    "\n",
    "private val selectAdID = (value: String) => {\n",
    "    value.toLowerCase()\n",
    "      .replace(\"sdrn:subito:classified:classifiedad:id:ad:\", \"\")\n",
    "      .replace(\"sdrn:schibsted:classified:\", \"\").replace(\"sdrn:regresssubito:classified:\", \"\")\n",
    "      .replace(\"sdrn:subito:classified:\",\"\").replace(\"sdrn:com.subito.subito:classified:\", \"\")\n",
    "      .replace(\"sdrn:subito:phonecontact:\",\"\")\n",
    "      .replace(\"id%3aad%3a\", \"\").replace(\"id:ad:\",\"\")\n",
    "      .replace(\"%3alist%3a\",\"-\").replace(\":list:\", \"-\")\n",
    "      .split(\"-\")(0).trim\n",
    "}\n",
    "\n",
    "private val selectListID = (value: String) => {\n",
    "    value.toLowerCase()\n",
    "      .replace(\"sdrn:subito:classified:classifiedad:id:ad:\", \"\")\n",
    "      .replace(\"sdrn:schibsted:classified:\", \"\").replace(\"sdrn:regresssubito:classified:\", \"\")\n",
    "      .replace(\"sdrn:subito:classified:\",\"\").replace(\"sdrn:com.subito.subito:classified:\", \"\")\n",
    "      .replace(\"sdrn:subito:phonecontact:\",\"\")\n",
    "      .replace(\"id%3aad%3a\", \"\").replace(\"id:ad:\",\"\")\n",
    "      .replace(\"%3alist%3a\",\"-\").replace(\":list:\", \"-\")\n",
    "      .split(\"-\")(1).trim\n",
    "}\n",
    "\n",
    "spark.udf.register(\"normalize_category\", normalizeCategory)\n",
    "spark.udf.register(\"normalize_macro_category\", normalizeMacroCategory)\n",
    "spark.udf.register(\"normalize_region\", normalizeRegion)\n",
    "spark.udf.register(\"select_ad_id\", selectAdID)\n",
    "spark.udf.register(\"select_list_id\", selectListID)\n",
    "\n",
    "val messages = events.\n",
    "    //filter(($\"@type\" === \"Launch\")).\n",
    "    filter($\"@type\" === \"View\" && $\"object.@type\" === \"Listing\").\n",
    "    select(col(\"object.filters.region\").alias(\"region\"),\n",
    "           col(\"object.filters.query\").alias(\"query\"),\n",
    "           col(\"object.filters.sorting\").alias(\"sorting\"),\n",
    "           col(\"object.filters.locality\").alias(\"locality\"),\n",
    "           col(\"device.deviceType\").alias(\"device_type\"),\n",
    "           col(\"device.environmentId\").alias(\"environment_id\"),\n",
    "           col(\"tracker.type\").alias(\"tracker_type\"),\n",
    "           col(\"tracker.version\").alias(\"tracker_version\"),\n",
    "           col(\"object.category\").alias(\"category\"),\n",
    "           col(\"actor.spt:userId\").alias(\"user_id\"),\n",
    "           col(\"@type\").alias(\"event_type\"),\n",
    "           col(\"published\")).\n",
    "    cache\n",
    "\n",
    "messages.createOrReplaceTempView(\"messages\")"
   ]
  },
  {
   "cell_type": "code",
   "execution_count": null,
   "metadata": {
    "collapsed": false
   },
   "outputs": [],
   "source": [
    "val data = messages.\n",
    "    sqlContext.sql(\"SELECT count(*) from messages \").\n",
    "    cache\n",
    "\n",
    "\n",
    "data.show(1000, false)"
   ]
  },
  {
   "cell_type": "code",
   "execution_count": null,
   "metadata": {
    "collapsed": false
   },
   "outputs": [],
   "source": [
    "val data = messages.\n",
    "    sqlContext.sql(\"SELECT * from messages where user_id = 18832846\").\n",
    "    cache\n",
    "\n",
    "\n",
    "data.show(1000, false)"
   ]
  },
  {
   "cell_type": "code",
   "execution_count": null,
   "metadata": {
    "collapsed": false
   },
   "outputs": [],
   "source": [
    "val data = messages.\n",
    "    sqlContext.sql(\"SELECT * from  messages limit 1 \").\n",
    "    cache\n",
    "\n",
    "\n",
    "data.show(1000, false)"
   ]
  },
  {
   "cell_type": "code",
   "execution_count": null,
   "metadata": {
    "collapsed": true
   },
   "outputs": [],
   "source": [
    "val data = messages.\n",
    "    sqlContext.sql(\"SELECT category, tracker_type, device_type, tracker_version from messages where tracker_type <> 'Android' and category is not null group by category, tracker_type, device_type, tracker_version order by category limit 10000 \").\n",
    "    cache\n",
    "\n",
    "\n",
    "data.show(1000, false)"
   ]
  }
 ],
 "metadata": {
  "kernelspec": {
   "display_name": "Apache Toree - Scala",
   "language": "scala",
   "name": "apache_toree_scala"
  },
  "language_info": {
   "codemirror_mode": "text/x-scala",
   "file_extension": ".scala",
   "mimetype": "text/x-scala",
   "name": "scala",
   "pygments_lexer": "scala",
   "version": "2.11.8"
  }
 },
 "nbformat": 4,
 "nbformat_minor": 2
}
